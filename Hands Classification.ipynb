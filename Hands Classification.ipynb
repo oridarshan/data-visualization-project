{
 "cells": [
  {
   "cell_type": "markdown",
   "metadata": {},
   "source": [
    "# Hands Classification\n",
    "We have recording of hands in 3 different scenarios.  \n",
    "1. Spontan- two hand moving freely.\n",
    "2. Sync- two hand moving, trying to be synchronized.\n",
    "3. Alone- one hand moving freely.  \n",
    "\n",
    "Our target is to classify hands to one of the categories according to their recorded movements and position. "
   ]
  },
  {
   "cell_type": "code",
   "execution_count": 1,
   "metadata": {},
   "outputs": [],
   "source": [
    "#Libraries import\n",
    "import numpy as np\n",
    "import pandas as pd\n",
    "import matplotlib.pyplot as plt\n",
    "import xgboost as xgb"
   ]
  },
  {
   "cell_type": "code",
   "execution_count": 2,
   "metadata": {},
   "outputs": [],
   "source": [
    "#understanding the data\n",
    "#example data:\n",
    "Evyatar_spon=pd.read_csv('Datasets/Hands/Training/Evyatar Cohen/Evyatar636771052727603804Spontan.csv')"
   ]
  },
  {
   "cell_type": "code",
   "execution_count": 3,
   "metadata": {
    "scrolled": true
   },
   "outputs": [
    {
     "data": {
      "text/html": [
       "<div>\n",
       "<style scoped>\n",
       "    .dataframe tbody tr th:only-of-type {\n",
       "        vertical-align: middle;\n",
       "    }\n",
       "\n",
       "    .dataframe tbody tr th {\n",
       "        vertical-align: top;\n",
       "    }\n",
       "\n",
       "    .dataframe thead th {\n",
       "        text-align: right;\n",
       "    }\n",
       "</style>\n",
       "<table border=\"1\" class=\"dataframe\">\n",
       "  <thead>\n",
       "    <tr style=\"text-align: right;\">\n",
       "      <th></th>\n",
       "      <th>Time</th>\n",
       "      <th>Frame ID</th>\n",
       "      <th>Hand Type</th>\n",
       "      <th># hands</th>\n",
       "      <th>Position X</th>\n",
       "      <th>Position Y</th>\n",
       "      <th>Position Z</th>\n",
       "      <th>Velocity X</th>\n",
       "      <th>Velocity Y</th>\n",
       "      <th>Velocity Z</th>\n",
       "      <th>...</th>\n",
       "      <th>Yaw</th>\n",
       "      <th>Wrist Pos X</th>\n",
       "      <th>Wrist Pos Y</th>\n",
       "      <th>Wrist Pos Z</th>\n",
       "      <th>Elbow pos X</th>\n",
       "      <th>Elbow Pos Y</th>\n",
       "      <th>Elbow Pos Z</th>\n",
       "      <th>Grab Strenth</th>\n",
       "      <th>Grab Angle</th>\n",
       "      <th>Pinch Strength</th>\n",
       "    </tr>\n",
       "  </thead>\n",
       "  <tbody>\n",
       "    <tr>\n",
       "      <th>0</th>\n",
       "      <td>335.9984</td>\n",
       "      <td>128556</td>\n",
       "      <td>right</td>\n",
       "      <td>2</td>\n",
       "      <td>128.63570</td>\n",
       "      <td>224.0294</td>\n",
       "      <td>-12.29588</td>\n",
       "      <td>-18.26243</td>\n",
       "      <td>-140.54450</td>\n",
       "      <td>-117.57790</td>\n",
       "      <td>...</td>\n",
       "      <td>-1.588251</td>\n",
       "      <td>177.5125</td>\n",
       "      <td>173.5658</td>\n",
       "      <td>-14.569630</td>\n",
       "      <td>276.8753</td>\n",
       "      <td>-33.68264</td>\n",
       "      <td>91.61740</td>\n",
       "      <td>0.0</td>\n",
       "      <td>1.250576</td>\n",
       "      <td>0.0</td>\n",
       "    </tr>\n",
       "    <tr>\n",
       "      <th>1</th>\n",
       "      <td>335.9984</td>\n",
       "      <td>128556</td>\n",
       "      <td>left</td>\n",
       "      <td>2</td>\n",
       "      <td>-93.24845</td>\n",
       "      <td>143.9423</td>\n",
       "      <td>-37.81597</td>\n",
       "      <td>-109.09820</td>\n",
       "      <td>240.38980</td>\n",
       "      <td>-67.62959</td>\n",
       "      <td>...</td>\n",
       "      <td>0.873458</td>\n",
       "      <td>-147.0455</td>\n",
       "      <td>109.9380</td>\n",
       "      <td>-5.326688</td>\n",
       "      <td>-329.8577</td>\n",
       "      <td>-34.41571</td>\n",
       "      <td>93.88171</td>\n",
       "      <td>0.0</td>\n",
       "      <td>0.014736</td>\n",
       "      <td>0.0</td>\n",
       "    </tr>\n",
       "    <tr>\n",
       "      <th>2</th>\n",
       "      <td>336.0150</td>\n",
       "      <td>128558</td>\n",
       "      <td>right</td>\n",
       "      <td>2</td>\n",
       "      <td>129.15550</td>\n",
       "      <td>221.9923</td>\n",
       "      <td>-15.00181</td>\n",
       "      <td>47.36464</td>\n",
       "      <td>-64.25022</td>\n",
       "      <td>-168.85850</td>\n",
       "      <td>...</td>\n",
       "      <td>-1.528183</td>\n",
       "      <td>177.7894</td>\n",
       "      <td>171.1952</td>\n",
       "      <td>-14.677850</td>\n",
       "      <td>276.0645</td>\n",
       "      <td>-33.15913</td>\n",
       "      <td>97.88171</td>\n",
       "      <td>0.0</td>\n",
       "      <td>1.069930</td>\n",
       "      <td>0.0</td>\n",
       "    </tr>\n",
       "    <tr>\n",
       "      <th>3</th>\n",
       "      <td>336.0150</td>\n",
       "      <td>128558</td>\n",
       "      <td>left</td>\n",
       "      <td>2</td>\n",
       "      <td>-94.86554</td>\n",
       "      <td>148.5542</td>\n",
       "      <td>-39.00158</td>\n",
       "      <td>-80.99012</td>\n",
       "      <td>278.60220</td>\n",
       "      <td>-66.79356</td>\n",
       "      <td>...</td>\n",
       "      <td>0.879703</td>\n",
       "      <td>-148.2022</td>\n",
       "      <td>113.0909</td>\n",
       "      <td>-7.375025</td>\n",
       "      <td>-326.9279</td>\n",
       "      <td>-39.97873</td>\n",
       "      <td>85.98000</td>\n",
       "      <td>0.0</td>\n",
       "      <td>0.000000</td>\n",
       "      <td>0.0</td>\n",
       "    </tr>\n",
       "    <tr>\n",
       "      <th>4</th>\n",
       "      <td>336.0315</td>\n",
       "      <td>128560</td>\n",
       "      <td>right</td>\n",
       "      <td>2</td>\n",
       "      <td>129.87070</td>\n",
       "      <td>220.7944</td>\n",
       "      <td>-18.38681</td>\n",
       "      <td>35.05422</td>\n",
       "      <td>-84.74242</td>\n",
       "      <td>-205.72030</td>\n",
       "      <td>...</td>\n",
       "      <td>-1.461710</td>\n",
       "      <td>178.3730</td>\n",
       "      <td>169.9159</td>\n",
       "      <td>-15.246240</td>\n",
       "      <td>276.1767</td>\n",
       "      <td>-30.72506</td>\n",
       "      <td>104.13920</td>\n",
       "      <td>0.0</td>\n",
       "      <td>0.916969</td>\n",
       "      <td>0.0</td>\n",
       "    </tr>\n",
       "  </tbody>\n",
       "</table>\n",
       "<p>5 rows × 22 columns</p>\n",
       "</div>"
      ],
      "text/plain": [
       "       Time   Frame ID  Hand Type   # hands   Position X   Position Y  \\\n",
       "0  335.9984     128556      right         2    128.63570     224.0294   \n",
       "1  335.9984     128556       left         2    -93.24845     143.9423   \n",
       "2  336.0150     128558      right         2    129.15550     221.9923   \n",
       "3  336.0150     128558       left         2    -94.86554     148.5542   \n",
       "4  336.0315     128560      right         2    129.87070     220.7944   \n",
       "\n",
       "    Position Z   Velocity X   Velocity Y   Velocity Z  ...       Yaw  \\\n",
       "0    -12.29588    -18.26243   -140.54450   -117.57790  ... -1.588251   \n",
       "1    -37.81597   -109.09820    240.38980    -67.62959  ...  0.873458   \n",
       "2    -15.00181     47.36464    -64.25022   -168.85850  ... -1.528183   \n",
       "3    -39.00158    -80.99012    278.60220    -66.79356  ...  0.879703   \n",
       "4    -18.38681     35.05422    -84.74242   -205.72030  ... -1.461710   \n",
       "\n",
       "    Wrist Pos X   Wrist Pos Y   Wrist Pos Z   Elbow pos X   Elbow Pos Y  \\\n",
       "0      177.5125      173.5658    -14.569630      276.8753     -33.68264   \n",
       "1     -147.0455      109.9380     -5.326688     -329.8577     -34.41571   \n",
       "2      177.7894      171.1952    -14.677850      276.0645     -33.15913   \n",
       "3     -148.2022      113.0909     -7.375025     -326.9279     -39.97873   \n",
       "4      178.3730      169.9159    -15.246240      276.1767     -30.72506   \n",
       "\n",
       "    Elbow Pos Z   Grab Strenth   Grab Angle   Pinch Strength  \n",
       "0      91.61740            0.0     1.250576              0.0  \n",
       "1      93.88171            0.0     0.014736              0.0  \n",
       "2      97.88171            0.0     1.069930              0.0  \n",
       "3      85.98000            0.0     0.000000              0.0  \n",
       "4     104.13920            0.0     0.916969              0.0  \n",
       "\n",
       "[5 rows x 22 columns]"
      ]
     },
     "execution_count": 3,
     "metadata": {},
     "output_type": "execute_result"
    }
   ],
   "source": [
    "Evyatar_spon.head()"
   ]
  },
  {
   "cell_type": "code",
   "execution_count": 4,
   "metadata": {
    "scrolled": true
   },
   "outputs": [
    {
     "data": {
      "text/plain": [
       "Index(['Time', ' Frame ID', ' Hand Type', ' # hands', ' Position X',\n",
       "       ' Position Y', ' Position Z', ' Velocity X', ' Velocity Y',\n",
       "       ' Velocity Z', ' Pitch', ' Roll', ' Yaw', ' Wrist Pos X',\n",
       "       ' Wrist Pos Y', ' Wrist Pos Z', ' Elbow pos X', ' Elbow Pos Y',\n",
       "       ' Elbow Pos Z', ' Grab Strenth', ' Grab Angle', ' Pinch Strength'],\n",
       "      dtype='object')"
      ]
     },
     "execution_count": 4,
     "metadata": {},
     "output_type": "execute_result"
    }
   ],
   "source": [
    "Evyatar_spon.loc[0].index"
   ]
  },
  {
   "cell_type": "markdown",
   "metadata": {},
   "source": [
    "Every ~1/6 second we have a \"picture\" of two hand- left and right.  \n",
    "Each \"picture\" contains information about the hands placement, velocity and position.  \n",
    "We will treat each pair of hands in a frame as one instance (single object).  \n",
    "The \"Alone\" files will be paired with the file \"HandRight.csv\".  "
   ]
  },
  {
   "cell_type": "markdown",
   "metadata": {},
   "source": [
    "## Data Importing"
   ]
  },
  {
   "cell_type": "code",
   "execution_count": 19,
   "metadata": {
    "scrolled": true
   },
   "outputs": [
    {
     "name": "stdout",
     "output_type": "stream",
     "text": [
      "Example df length: 4575\n",
      "no. of df in Sync 9\n"
     ]
    }
   ],
   "source": [
    "#data import\n",
    "from os import listdir\n",
    "folder=('Datasets/Hands/Training/')\n",
    "Spon, Sync, Alone=list(), list(), list()\n",
    "for participant in listdir(folder):\n",
    "    for file in listdir(folder+participant+'/'):\n",
    "        if file.endswith('Spontan.csv'):\n",
    "            spon=pd.read_csv(folder+participant+'/'+file)\n",
    "        elif file.endswith('Sync.csv'):\n",
    "            sync=pd.read_csv(folder+participant+'/'+file)\n",
    "        elif file.endswith('Alone.csv'):\n",
    "            alone=pd.read_csv(folder+participant+'/'+file)\n",
    "    Spon.append(spon)\n",
    "    Sync.append(sync)\n",
    "    Alone.append(alone)\n",
    "print('Example df length: '+str(len(Alone[1])))#frames in Alone second dataframe\n",
    "print ('no. of df in Sync '+str(len(Sync)))"
   ]
  },
  {
   "cell_type": "markdown",
   "metadata": {},
   "source": [
    "We now have a list for every scenario."
   ]
  },
  {
   "cell_type": "markdown",
   "metadata": {},
   "source": [
    "We will remove the first 7 seconds from each recording (time to get synchronized)."
   ]
  },
  {
   "cell_type": "code",
   "execution_count": 21,
   "metadata": {},
   "outputs": [
    {
     "data": {
      "text/plain": [
       "4491"
      ]
     },
     "execution_count": 21,
     "metadata": {},
     "output_type": "execute_result"
    }
   ],
   "source": [
    "for scenario in (Spon,Sync,Alone):\n",
    "    for df in scenario:\n",
    "        df.drop(range(2*6*7),inplace=True)\n",
    "len(Alone[1])"
   ]
  },
  {
   "cell_type": "markdown",
   "metadata": {},
   "source": [
    "We'll do the same for the test data"
   ]
  },
  {
   "cell_type": "code",
   "execution_count": 24,
   "metadata": {
    "scrolled": true
   },
   "outputs": [
    {
     "name": "stdout",
     "output_type": "stream",
     "text": [
      "length before reduce: 8969\n",
      "length before reduce: 8885\n"
     ]
    }
   ],
   "source": [
    "#import test data\n",
    "folder=('Datasets/Hands/Validation/')\n",
    "Spon_test, Sync_test, Alone_test=list(), list(), list()\n",
    "for participant in listdir(folder):\n",
    "    for file in listdir(folder+participant+'/'):\n",
    "        if file.endswith('Spontan.csv'):\n",
    "            spon=pd.read_csv(folder+participant+'/'+file)\n",
    "        elif file.endswith('Sync.csv'):\n",
    "            sync=pd.read_csv(folder+participant+'/'+file)\n",
    "        elif file.endswith('Alone.csv'):\n",
    "            alone=pd.read_csv(folder+participant+'/'+file)\n",
    "    Spon_test.append(spon)\n",
    "    Sync_test.append(sync)\n",
    "    Alone_test.append(alone)\n",
    "print('length before reduce: '+str(len(Spon_test[0])))\n",
    "#remove first 7 seconds\n",
    "for scenario in (Spon_test,Sync_test,Alone_test):\n",
    "    for df in scenario:\n",
    "        df.drop(range(2*6*7),inplace=True)\n",
    "print('length before reduce: '+str(len(Spon_test[0])))"
   ]
  },
  {
   "cell_type": "code",
   "execution_count": null,
   "metadata": {},
   "outputs": [],
   "source": []
  }
 ],
 "metadata": {
  "kernelspec": {
   "display_name": "Python 3",
   "language": "python",
   "name": "python3"
  },
  "language_info": {
   "codemirror_mode": {
    "name": "ipython",
    "version": 3
   },
   "file_extension": ".py",
   "mimetype": "text/x-python",
   "name": "python",
   "nbconvert_exporter": "python",
   "pygments_lexer": "ipython3",
   "version": "3.8.5"
  }
 },
 "nbformat": 4,
 "nbformat_minor": 4
}
