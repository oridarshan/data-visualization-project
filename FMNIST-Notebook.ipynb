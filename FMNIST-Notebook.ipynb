{
 "cells": [
  {
   "cell_type": "markdown",
   "metadata": {},
   "source": [
    "# Fashion-MNIST Notebook\n",
    "In this notebook we will try to classify different fashion items and clothes based on black-and-white pictures from the \"fashion mnist\" dataset without using neural networks.\n",
    "\n",
    "\n",
    "Importing libraries and data:"
   ]
  },
  {
   "cell_type": "code",
   "execution_count": 2,
   "metadata": {},
   "outputs": [],
   "source": [
    "import numpy as np\n",
    "import pandas as pd\n",
    "from tensorflow.keras.datasets import fashion_mnist #dataset"
   ]
  },
  {
   "cell_type": "code",
   "execution_count": 3,
   "metadata": {},
   "outputs": [
    {
     "data": {
      "text/plain": [
       "(60000, 28, 28)"
      ]
     },
     "execution_count": 3,
     "metadata": {},
     "output_type": "execute_result"
    }
   ],
   "source": [
    "(X_train, y_train), (X_test, y_test) = fashion_mnist.load_data() #dataset split\n",
    "X_train.shape"
   ]
  },
  {
   "cell_type": "markdown",
   "metadata": {},
   "source": [
    "## Data Preparations"
   ]
  },
  {
   "cell_type": "markdown",
   "metadata": {},
   "source": [
    "The dataset is an educational dataset, therefore the data is clean and useable (only simple scaling is required)"
   ]
  },
  {
   "cell_type": "markdown",
   "metadata": {},
   "source": [
    "Example picture from the dataset:"
   ]
  },
  {
   "cell_type": "code",
   "execution_count": 4,
   "metadata": {},
   "outputs": [
    {
     "data": {
      "image/png": "[encoded data removed]",
      "text/plain": [
       "<Figure size 432x288 with 1 Axes>"
      ]
     },
     "metadata": {
      "needs_background": "light"
     },
     "output_type": "display_data"
    }
   ],
   "source": [
    "import matplotlib.pyplot as plt\n",
    "example_img=X_train[5]\n",
    "plt.imshow(example_img, cmap=\"gray\")\n",
    "plt.title('Label: '+str(y_train[5]))\n",
    "plt.show()"
   ]
  },
  {
   "cell_type": "markdown",
   "metadata": {},
   "source": [
    "## Labels legend:\n",
    "0- T-shirt/top  \n",
    "1- Trouser  \n",
    "2- Pullover  \n",
    "3- Dress  \n",
    "4- Coat  \n",
    "5- Sandal  \n",
    "6- Shirt  \n",
    "7- Sneaker  \n",
    "8- Bag  \n",
    "9- Ankle boot"
   ]
  },
  {
   "cell_type": "code",
   "execution_count": 5,
   "metadata": {},
   "outputs": [],
   "source": [
    "labels=['T-shirt/top','Trouser','Pullover','Dress','Coat','Sandal','Shirt','Sneaker','Bag','Ankle boot']"
   ]
  },
  {
   "cell_type": "markdown",
   "metadata": {},
   "source": [
    "The picture in the example (picture no. 5) represents a Pullover."
   ]
  },
  {
   "cell_type": "code",
   "execution_count": 6,
   "metadata": {},
   "outputs": [
    {
     "data": {
      "text/plain": [
       "10000"
      ]
     },
     "execution_count": 6,
     "metadata": {},
     "output_type": "execute_result"
    }
   ],
   "source": [
    "# test dataset size \n",
    "y_test.size"
   ]
  },
  {
   "cell_type": "markdown",
   "metadata": {},
   "source": [
    "Each picture has 28*28 pixels, 784 dimensions to the data.  \n",
    "It's very hard to handle and not very effective because there are some pixels who are similar for all pictures (for example the pixels at the corners).\n",
    "\n",
    "We will combat this problem in two ways, the first will be a limited decision tree.  \n",
    "The tree will choose the most relevant dimensions to divide the data by.\n",
    "\n",
    "The second solution will be dimensional reduction using PCA, with this method we will not only choose the most useful dimensions but also create new dimenstions that will represent combinations of multiple dimensions, compressing more data to the same number of dimensions."
   ]
  },
  {
   "cell_type": "code",
   "execution_count": 7,
   "metadata": {},
   "outputs": [
    {
     "name": "stdout",
     "output_type": "stream",
     "text": [
      "max pixel value: 255\n",
      "min pixel value: 0\n",
      "mean pixel value: 72.94035223214286\n"
     ]
    }
   ],
   "source": [
    "#making sure data is not distorted\n",
    "print ('max pixel value: ' + str(X_train.max()))\n",
    "print ('min pixel value: '+ str(X_train.min()))\n",
    "print ('mean pixel value: '+ str(X_train.mean()))"
   ]
  },
  {
   "cell_type": "code",
   "execution_count": 8,
   "metadata": {},
   "outputs": [
    {
     "name": "stdout",
     "output_type": "stream",
     "text": [
      "after scaling:\n",
      "max pixel value: 1.0\n",
      "min pixel value: 0.0\n",
      "mean pixel value: 0.2860405969887955\n"
     ]
    }
   ],
   "source": [
    "#scaling\n",
    "X_train_sc=X_train/255\n",
    "print('after scaling:')\n",
    "print ('max pixel value: ' + str(X_train_sc.max()))\n",
    "print ('min pixel value: '+ str(X_train_sc.min()))\n",
    "print ('mean pixel value: '+ str(X_train_sc.mean()))"
   ]
  },
  {
   "cell_type": "code",
   "execution_count": 9,
   "metadata": {
    "scrolled": true
   },
   "outputs": [
    {
     "data": {
      "text/plain": [
       "Text(0.5, 1.0, 'frequency of labels')"
      ]
     },
     "execution_count": 9,
     "metadata": {},
     "output_type": "execute_result"
    },
    {
     "data": {
      "image/png": "[encoded data removed]",
      "text/plain": [
       "<Figure size 432x288 with 1 Axes>"
      ]
     },
     "metadata": {
      "needs_background": "light"
     },
     "output_type": "display_data"
    }
   ],
   "source": [
    "#samples distribution\n",
    "plt.hist(y_train)\n",
    "plt.title('frequency of labels')"
   ]
  },
  {
   "cell_type": "markdown",
   "metadata": {},
   "source": [
    "Equal representation for all labels.\n",
    "The dataset is balanced, so good scores will translate well to the test set and real-life scenarios."
   ]
  },
  {
   "cell_type": "markdown",
   "metadata": {},
   "source": [
    "Reshaping the dataset to fit the classifiers:"
   ]
  },
  {
   "cell_type": "code",
   "execution_count": 10,
   "metadata": {},
   "outputs": [
    {
     "data": {
      "text/plain": [
       "(60000, 784)"
      ]
     },
     "execution_count": 10,
     "metadata": {},
     "output_type": "execute_result"
    }
   ],
   "source": [
    "X_train_sc=X_train_sc.reshape((60000,784))\n",
    "X_train_sc.shape"
   ]
  },
  {
   "cell_type": "markdown",
   "metadata": {},
   "source": [
    "Scaling and reshaping the test set:"
   ]
  },
  {
   "cell_type": "code",
   "execution_count": 11,
   "metadata": {},
   "outputs": [
    {
     "name": "stdout",
     "output_type": "stream",
     "text": [
      "test set shape: (10000, 784)\n",
      "test set max:1.0\n"
     ]
    }
   ],
   "source": [
    "X_test_sc=X_test/255\n",
    "X_test_sc=X_test_sc.reshape((10000,784))\n",
    "print('test set shape: '+str(X_test_sc.shape))\n",
    "print('test set max:'+ str(X_test_sc.max()))"
   ]
  },
  {
   "cell_type": "markdown",
   "metadata": {},
   "source": [
    "## Decision Tree"
   ]
  },
  {
   "cell_type": "markdown",
   "metadata": {},
   "source": [
    "Scoring method: in multiclass classifications there are several scoring methods.  \n",
    "The method I will use is accuracy, we will try to classify as many cases as possible.  \n",
    "The data is balanced, so good accuracy = good performance."
   ]
  },
  {
   "cell_type": "code",
   "execution_count": 12,
   "metadata": {},
   "outputs": [
    {
     "name": "stdout",
     "output_type": "stream",
     "text": [
      "train set accuracy: 0.8514833333333334\n"
     ]
    }
   ],
   "source": [
    "from sklearn.tree import DecisionTreeClassifier\n",
    "from sklearn.metrics import accuracy_score\n",
    "dtc=DecisionTreeClassifier(random_state=0, max_depth=10)\n",
    "dtc.fit(X_train_sc, y_train)\n",
    "dtc_pred1 = dtc.predict(X_train_sc)\n",
    "print ('train set accuracy: '+str(accuracy_score(y_train,dtc_pred1)))"
   ]
  },
  {
   "cell_type": "markdown",
   "metadata": {},
   "source": [
    "The results look fine, we will try to improve the performance with grid search on the tree hight."
   ]
  },
  {
   "cell_type": "code",
   "execution_count": 13,
   "metadata": {},
   "outputs": [
    {
     "data": {
      "text/plain": [
       "GridSearchCV(cv=5,\n",
       "             estimator=DecisionTreeClassifier(max_depth=10, random_state=0),\n",
       "             param_grid={'max_depth': [5, 10, 15, 20]}, scoring='accuracy')"
      ]
     },
     "execution_count": 13,
     "metadata": {},
     "output_type": "execute_result"
    }
   ],
   "source": [
    "from sklearn.model_selection import GridSearchCV\n",
    "depths={'max_depth':[5,10,15,20]}\n",
    "grid=GridSearchCV(dtc,depths,scoring='accuracy',cv=5)\n",
    "grid.fit(X_train_sc,y_train)"
   ]
  },
  {
   "cell_type": "code",
   "execution_count": 14,
   "metadata": {},
   "outputs": [
    {
     "data": {
      "text/html": [
       "<div>\n",
       "<style scoped>\n",
       "    .dataframe tbody tr th:only-of-type {\n",
       "        vertical-align: middle;\n",
       "    }\n",
       "\n",
       "    .dataframe tbody tr th {\n",
       "        vertical-align: top;\n",
       "    }\n",
       "\n",
       "    .dataframe thead th {\n",
       "        text-align: right;\n",
       "    }\n",
       "</style>\n",
       "<table border=\"1\" class=\"dataframe\">\n",
       "  <thead>\n",
       "    <tr style=\"text-align: right;\">\n",
       "      <th></th>\n",
       "      <th>mean_fit_time</th>\n",
       "      <th>std_fit_time</th>\n",
       "      <th>mean_score_time</th>\n",
       "      <th>std_score_time</th>\n",
       "      <th>param_max_depth</th>\n",
       "      <th>params</th>\n",
       "      <th>split0_test_score</th>\n",
       "      <th>split1_test_score</th>\n",
       "      <th>split2_test_score</th>\n",
       "      <th>split3_test_score</th>\n",
       "      <th>split4_test_score</th>\n",
       "      <th>mean_test_score</th>\n",
       "      <th>std_test_score</th>\n",
       "      <th>rank_test_score</th>\n",
       "    </tr>\n",
       "  </thead>\n",
       "  <tbody>\n",
       "    <tr>\n",
       "      <th>0</th>\n",
       "      <td>6.570452</td>\n",
       "      <td>0.307019</td>\n",
       "      <td>0.028847</td>\n",
       "      <td>0.006749</td>\n",
       "      <td>5</td>\n",
       "      <td>{'max_depth': 5}</td>\n",
       "      <td>0.705917</td>\n",
       "      <td>0.703167</td>\n",
       "      <td>0.709583</td>\n",
       "      <td>0.71200</td>\n",
       "      <td>0.708417</td>\n",
       "      <td>0.707817</td>\n",
       "      <td>0.003040</td>\n",
       "      <td>4</td>\n",
       "    </tr>\n",
       "    <tr>\n",
       "      <th>1</th>\n",
       "      <td>12.851322</td>\n",
       "      <td>0.740605</td>\n",
       "      <td>0.025277</td>\n",
       "      <td>0.007996</td>\n",
       "      <td>10</td>\n",
       "      <td>{'max_depth': 10}</td>\n",
       "      <td>0.805917</td>\n",
       "      <td>0.802917</td>\n",
       "      <td>0.808333</td>\n",
       "      <td>0.81050</td>\n",
       "      <td>0.809667</td>\n",
       "      <td>0.807467</td>\n",
       "      <td>0.002753</td>\n",
       "      <td>2</td>\n",
       "    </tr>\n",
       "    <tr>\n",
       "      <th>2</th>\n",
       "      <td>20.012446</td>\n",
       "      <td>1.173715</td>\n",
       "      <td>0.034805</td>\n",
       "      <td>0.005161</td>\n",
       "      <td>15</td>\n",
       "      <td>{'max_depth': 15}</td>\n",
       "      <td>0.811667</td>\n",
       "      <td>0.807750</td>\n",
       "      <td>0.814750</td>\n",
       "      <td>0.81775</td>\n",
       "      <td>0.813000</td>\n",
       "      <td>0.812983</td>\n",
       "      <td>0.003316</td>\n",
       "      <td>1</td>\n",
       "    </tr>\n",
       "    <tr>\n",
       "      <th>3</th>\n",
       "      <td>22.231181</td>\n",
       "      <td>1.632888</td>\n",
       "      <td>0.032001</td>\n",
       "      <td>0.002673</td>\n",
       "      <td>20</td>\n",
       "      <td>{'max_depth': 20}</td>\n",
       "      <td>0.798333</td>\n",
       "      <td>0.802083</td>\n",
       "      <td>0.803000</td>\n",
       "      <td>0.80975</td>\n",
       "      <td>0.806250</td>\n",
       "      <td>0.803883</td>\n",
       "      <td>0.003869</td>\n",
       "      <td>3</td>\n",
       "    </tr>\n",
       "  </tbody>\n",
       "</table>\n",
       "</div>"
      ],
      "text/plain": [
       "   mean_fit_time  std_fit_time  mean_score_time  std_score_time  \\\n",
       "0       6.570452      0.307019         0.028847        0.006749   \n",
       "1      12.851322      0.740605         0.025277        0.007996   \n",
       "2      20.012446      1.173715         0.034805        0.005161   \n",
       "3      22.231181      1.632888         0.032001        0.002673   \n",
       "\n",
       "  param_max_depth             params  split0_test_score  split1_test_score  \\\n",
       "0               5   {'max_depth': 5}           0.705917           0.703167   \n",
       "1              10  {'max_depth': 10}           0.805917           0.802917   \n",
       "2              15  {'max_depth': 15}           0.811667           0.807750   \n",
       "3              20  {'max_depth': 20}           0.798333           0.802083   \n",
       "\n",
       "   split2_test_score  split3_test_score  split4_test_score  mean_test_score  \\\n",
       "0           0.709583            0.71200           0.708417         0.707817   \n",
       "1           0.808333            0.81050           0.809667         0.807467   \n",
       "2           0.814750            0.81775           0.813000         0.812983   \n",
       "3           0.803000            0.80975           0.806250         0.803883   \n",
       "\n",
       "   std_test_score  rank_test_score  \n",
       "0        0.003040                4  \n",
       "1        0.002753                2  \n",
       "2        0.003316                1  \n",
       "3        0.003869                3  "
      ]
     },
     "execution_count": 14,
     "metadata": {},
     "output_type": "execute_result"
    }
   ],
   "source": [
    "#plotting the results\n",
    "pd.DataFrame(grid.cv_results_)"
   ]
  },
  {
   "cell_type": "code",
   "execution_count": 15,
   "metadata": {},
   "outputs": [
    {
     "data": {
      "text/plain": [
       "<AxesSubplot:xlabel='param_max_depth', ylabel='mean test score'>"
      ]
     },
     "execution_count": 15,
     "metadata": {},
     "output_type": "execute_result"
    },
    {
     "data": {
      "image/png": "[encoded data removed]",
      "text/plain": [
       "<Figure size 432x288 with 1 Axes>"
      ]
     },
     "metadata": {
      "needs_background": "light"
     },
     "output_type": "display_data"
    }
   ],
   "source": [
    "k_compare=pd.DataFrame(grid.cv_results_)[['mean_test_score','param_max_depth']]\n",
    "k_compare.plot(y='mean_test_score',x='param_max_depth',legend=False,ylabel='mean test score')"
   ]
  },
  {
   "cell_type": "markdown",
   "metadata": {},
   "source": [
    "the graph peaks at max_depth=15, so we will use this parameter in the final evaluation on the test set."
   ]
  },
  {
   "cell_type": "code",
   "execution_count": 16,
   "metadata": {},
   "outputs": [
    {
     "data": {
      "text/plain": [
       "array([9, 6, 1, ..., 8, 1, 5], dtype=uint8)"
      ]
     },
     "execution_count": 16,
     "metadata": {},
     "output_type": "execute_result"
    }
   ],
   "source": [
    "dtc=grid.best_estimator_\n",
    "dtc_pred=dtc.predict(X_test_sc)\n",
    "dtc_pred"
   ]
  },
  {
   "cell_type": "code",
   "execution_count": 17,
   "metadata": {},
   "outputs": [
    {
     "name": "stdout",
     "output_type": "stream",
     "text": [
      "decision tree test accuracy: 0.8072\n"
     ]
    }
   ],
   "source": [
    "#test score\n",
    "print('decision tree test accuracy: '+str(accuracy_score(y_test,dtc_pred)))"
   ]
  },
  {
   "cell_type": "code",
   "execution_count": 18,
   "metadata": {},
   "outputs": [
    {
     "data": {
      "text/plain": [
       "<AxesSubplot:>"
      ]
     },
     "execution_count": 18,
     "metadata": {},
     "output_type": "execute_result"
    },
    {
     "data": {
      "image/png": "[encoded data removed]",
      "text/plain": [
       "<Figure size 1080x720 with 2 Axes>"
      ]
     },
     "metadata": {
      "needs_background": "light"
     },
     "output_type": "display_data"
    }
   ],
   "source": [
    "#confusion matrix\n",
    "from sklearn.metrics import confusion_matrix\n",
    "import seaborn as sns\n",
    "plt.figure(figsize=(15,10))\n",
    "sns.heatmap(confusion_matrix(y_test,dtc_pred),annot=True)"
   ]
  },
  {
   "cell_type": "markdown",
   "metadata": {},
   "source": [
    "The best classified label is 1 (Trouser), The most confused labels are 2 and 4 (Pullover and Coat) which is understandable.  \n",
    "Another common mistakes: 0 and 6 (T-shirt/top and Shirt)  \n",
    "                         2 and 6 (Pullover and Shirt)  \n",
    "                         4 and 6 (Coat and Shirt)  \n",
    "The classifier had the most mistakes with label 6 (Shirt)."
   ]
  },
  {
   "cell_type": "code",
   "execution_count": null,
   "metadata": {},
   "outputs": [],
   "source": []
  }
 ],
 "metadata": {
  "kernelspec": {
   "display_name": "Python 3",
   "language": "python",
   "name": "python3"
  },
  "language_info": {
   "codemirror_mode": {
    "name": "ipython",
    "version": 3
   },
   "file_extension": ".py",
   "mimetype": "text/x-python",
   "name": "python",
   "nbconvert_exporter": "python",
   "pygments_lexer": "ipython3",
   "version": "3.8.5"
  }
 },
 "nbformat": 4,
 "nbformat_minor": 4
}
