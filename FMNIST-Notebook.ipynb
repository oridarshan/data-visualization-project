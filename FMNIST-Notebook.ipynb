{
 "cells": [
  {
   "cell_type": "markdown",
   "metadata": {},
   "source": [
    "# Fashion-MNIST Notebook\n",
    "In this notebook we will try to classify different fashion items and clothes based on black-and-white pictures from the \"fashion mnist\" dataset without using neural networks.\n",
    "\n",
    "\n",
    "Importing libraries and data:"
   ]
  },
  {
   "cell_type": "code",
   "execution_count": 2,
   "metadata": {},
   "outputs": [],
   "source": [
    "import numpy as np\n",
    "import pandas as pd\n",
    "from tensorflow.keras.datasets import fashion_mnist #dataset"
   ]
  },
  {
   "cell_type": "code",
   "execution_count": 3,
   "metadata": {},
   "outputs": [
    {
     "data": {
      "text/plain": [
       "(60000, 28, 28)"
      ]
     },
     "execution_count": 3,
     "metadata": {},
     "output_type": "execute_result"
    }
   ],
   "source": [
    "(X_train, y_train), (X_test, y_test) = fashion_mnist.load_data() #dataset split\n",
    "X_train.shape"
   ]
  },
  {
   "cell_type": "markdown",
   "metadata": {},
   "source": [
    "Example picture from the dataset:"
   ]
  },
  {
   "cell_type": "code",
   "execution_count": 5,
   "metadata": {},
   "outputs": [
    {
     "data": {
      "image/png": "[encoded data removed]",
      "text/plain": [
       "<Figure size 432x288 with 1 Axes>"
      ]
     },
     "metadata": {
      "needs_background": "light"
     },
     "output_type": "display_data"
    }
   ],
   "source": [
    "import matplotlib.pyplot as plt\n",
    "example_img=X_train[5]\n",
    "plt.imshow(example_img, cmap=\"gray\")\n",
    "plt.title('Label: '+str(y_train[5]))\n",
    "plt.show()"
   ]
  },
  {
   "cell_type": "markdown",
   "metadata": {},
   "source": [
    "## Labels legend:\n",
    "0- T-shirt/top  \n",
    "1- Trouser  \n",
    "2- Pullover  \n",
    "3- Dress  \n",
    "4- Coat  \n",
    "5- Sandal  \n",
    "6- Shirt  \n",
    "7- Sneaker  \n",
    "8- Bag  \n",
    "9- Ankle boot"
   ]
  },
  {
   "cell_type": "markdown",
   "metadata": {},
   "source": [
    "The picture in the example (picture no. 5) represents a Pullover."
   ]
  },
  {
   "cell_type": "code",
   "execution_count": 7,
   "metadata": {},
   "outputs": [
    {
     "data": {
      "text/plain": [
       "10000"
      ]
     },
     "execution_count": 7,
     "metadata": {},
     "output_type": "execute_result"
    }
   ],
   "source": [
    "# test dataset size \n",
    "y_test.size"
   ]
  },
  {
   "cell_type": "markdown",
   "metadata": {},
   "source": [
    "Each picture has 28*28 pixels, 784 dimensions to the data.  \n",
    "It's very hard to handle and not very effective because there are some pixels who are similar for all pictures (for example the pixels at the corners).\n",
    "\n",
    "We will combat this problem in two ways, the first will be a limited decision tree.  \n",
    "The tree will choose the most relevant dimensions to divide the data by.\n",
    "\n",
    "The second solution will be dimensional reduction using PCA, with this method we will not only choose the most useful dimensions but also create new dimenstions that will represent combinations of multiple dimensions, compressing more data to the same number of dimensions."
   ]
  },
  {
   "cell_type": "code",
   "execution_count": null,
   "metadata": {},
   "outputs": [],
   "source": []
  }
 ],
 "metadata": {
  "kernelspec": {
   "display_name": "Python 3",
   "language": "python",
   "name": "python3"
  },
  "language_info": {
   "codemirror_mode": {
    "name": "ipython",
    "version": 3
   },
   "file_extension": ".py",
   "mimetype": "text/x-python",
   "name": "python",
   "nbconvert_exporter": "python",
   "pygments_lexer": "ipython3",
   "version": "3.8.5"
  }
 },
 "nbformat": 4,
 "nbformat_minor": 4
}
